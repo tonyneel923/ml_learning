{
 "cells": [
  {
   "cell_type": "code",
   "execution_count": 1,
   "id": "c52003a6",
   "metadata": {
    "execution": {
     "iopub.execute_input": "2024-04-09T23:11:09.480580Z",
     "iopub.status.busy": "2024-04-09T23:11:09.480153Z",
     "iopub.status.idle": "2024-04-09T23:11:17.094041Z",
     "shell.execute_reply": "2024-04-09T23:11:17.092749Z"
    },
    "papermill": {
     "duration": 7.624969,
     "end_time": "2024-04-09T23:11:17.096604",
     "exception": false,
     "start_time": "2024-04-09T23:11:09.471635",
     "status": "completed"
    },
    "tags": []
   },
   "outputs": [
    {
     "data": {
      "text/html": [
       "<div>\n",
       "<style scoped>\n",
       "    .dataframe tbody tr th:only-of-type {\n",
       "        vertical-align: middle;\n",
       "    }\n",
       "\n",
       "    .dataframe tbody tr th {\n",
       "        vertical-align: top;\n",
       "    }\n",
       "\n",
       "    .dataframe thead th {\n",
       "        text-align: right;\n",
       "    }\n",
       "</style>\n",
       "<table border=\"1\" class=\"dataframe\">\n",
       "  <thead>\n",
       "    <tr style=\"text-align: right;\">\n",
       "      <th></th>\n",
       "      <th>Survived</th>\n",
       "      <th>Pclass</th>\n",
       "      <th>Name</th>\n",
       "      <th>Sex</th>\n",
       "      <th>Age</th>\n",
       "      <th>SibSp</th>\n",
       "      <th>Parch</th>\n",
       "      <th>Ticket</th>\n",
       "      <th>Fare</th>\n",
       "      <th>Cabin</th>\n",
       "      <th>Embarked</th>\n",
       "    </tr>\n",
       "  </thead>\n",
       "  <tbody>\n",
       "    <tr>\n",
       "      <th>0</th>\n",
       "      <td>0</td>\n",
       "      <td>3</td>\n",
       "      <td>Braund, Mr. Owen Harris</td>\n",
       "      <td>male</td>\n",
       "      <td>22.0</td>\n",
       "      <td>1</td>\n",
       "      <td>0</td>\n",
       "      <td>A/5 21171</td>\n",
       "      <td>7.2500</td>\n",
       "      <td>NaN</td>\n",
       "      <td>S</td>\n",
       "    </tr>\n",
       "    <tr>\n",
       "      <th>1</th>\n",
       "      <td>1</td>\n",
       "      <td>1</td>\n",
       "      <td>Cumings, Mrs. John Bradley (Florence Briggs Thayer)</td>\n",
       "      <td>female</td>\n",
       "      <td>38.0</td>\n",
       "      <td>1</td>\n",
       "      <td>0</td>\n",
       "      <td>PC 17599</td>\n",
       "      <td>71.2833</td>\n",
       "      <td>C85</td>\n",
       "      <td>C</td>\n",
       "    </tr>\n",
       "    <tr>\n",
       "      <th>2</th>\n",
       "      <td>1</td>\n",
       "      <td>3</td>\n",
       "      <td>Heikkinen, Miss. Laina</td>\n",
       "      <td>female</td>\n",
       "      <td>26.0</td>\n",
       "      <td>0</td>\n",
       "      <td>0</td>\n",
       "      <td>STON/O2. 3101282</td>\n",
       "      <td>7.9250</td>\n",
       "      <td>NaN</td>\n",
       "      <td>S</td>\n",
       "    </tr>\n",
       "    <tr>\n",
       "      <th>3</th>\n",
       "      <td>1</td>\n",
       "      <td>1</td>\n",
       "      <td>Futrelle, Mrs. Jacques Heath (Lily May Peel)</td>\n",
       "      <td>female</td>\n",
       "      <td>35.0</td>\n",
       "      <td>1</td>\n",
       "      <td>0</td>\n",
       "      <td>113803</td>\n",
       "      <td>53.1000</td>\n",
       "      <td>C123</td>\n",
       "      <td>S</td>\n",
       "    </tr>\n",
       "    <tr>\n",
       "      <th>4</th>\n",
       "      <td>0</td>\n",
       "      <td>3</td>\n",
       "      <td>Allen, Mr. William Henry</td>\n",
       "      <td>male</td>\n",
       "      <td>35.0</td>\n",
       "      <td>0</td>\n",
       "      <td>0</td>\n",
       "      <td>373450</td>\n",
       "      <td>8.0500</td>\n",
       "      <td>NaN</td>\n",
       "      <td>S</td>\n",
       "    </tr>\n",
       "  </tbody>\n",
       "</table>\n",
       "</div>"
      ],
      "text/plain": [
       "   Survived  Pclass                                                 Name  \\\n",
       "0         0       3                              Braund, Mr. Owen Harris   \n",
       "1         1       1  Cumings, Mrs. John Bradley (Florence Briggs Thayer)   \n",
       "2         1       3                               Heikkinen, Miss. Laina   \n",
       "3         1       1         Futrelle, Mrs. Jacques Heath (Lily May Peel)   \n",
       "4         0       3                             Allen, Mr. William Henry   \n",
       "\n",
       "      Sex   Age  SibSp  Parch            Ticket     Fare Cabin Embarked  \n",
       "0    male  22.0      1      0         A/5 21171   7.2500   NaN        S  \n",
       "1  female  38.0      1      0          PC 17599  71.2833   C85        C  \n",
       "2  female  26.0      0      0  STON/O2. 3101282   7.9250   NaN        S  \n",
       "3  female  35.0      1      0            113803  53.1000  C123        S  \n",
       "4    male  35.0      0      0            373450   8.0500   NaN        S  "
      ]
     },
     "execution_count": 1,
     "metadata": {},
     "output_type": "execute_result"
    }
   ],
   "source": [
    "from fastai.tabular.all import *\n",
    "df = pd.read_csv('/kaggle/input/titanic/train.csv')\n",
    "df.drop('PassengerId', axis=1, inplace=True)\n",
    "df.head()"
   ]
  },
  {
   "cell_type": "code",
   "execution_count": 2,
   "id": "322ff23c",
   "metadata": {
    "execution": {
     "iopub.execute_input": "2024-04-09T23:11:17.110918Z",
     "iopub.status.busy": "2024-04-09T23:11:17.110478Z",
     "iopub.status.idle": "2024-04-09T23:11:17.232382Z",
     "shell.execute_reply": "2024-04-09T23:11:17.229819Z"
    },
    "papermill": {
     "duration": 0.131975,
     "end_time": "2024-04-09T23:11:17.234840",
     "exception": false,
     "start_time": "2024-04-09T23:11:17.102865",
     "status": "completed"
    },
    "tags": []
   },
   "outputs": [
    {
     "name": "stderr",
     "output_type": "stream",
     "text": [
      "/opt/conda/lib/python3.10/site-packages/fastai/tabular/core.py:312: FutureWarning: A value is trying to be set on a copy of a DataFrame or Series through chained assignment using an inplace method.\n",
      "The behavior will change in pandas 3.0. This inplace method will never work because the intermediate object on which we are setting values always behaves as a copy.\n",
      "\n",
      "For example, when doing 'df[col].method(value, inplace=True)', try using 'df.method({col: value}, inplace=True)' or df[col] = df[col].method(value) instead, to perform the operation inplace on the original object.\n",
      "\n",
      "\n",
      "  to[n].fillna(self.na_dict[n], inplace=True)\n"
     ]
    }
   ],
   "source": [
    "dls = TabularDataLoaders.from_csv('/kaggle/input/titanic/train.csv', y_names=\"Survived\", y_block = CategoryBlock,\n",
    "    cat_names = ['PassengerId', 'Pclass', 'Name', 'Sex', 'Cabin', 'Embarked', 'Ticket'],\n",
    "    cont_names = ['Age', 'Fare', 'SibSp', 'Parch'],\n",
    "    procs = [Categorify, FillMissing, Normalize])"
   ]
  },
  {
   "cell_type": "code",
   "execution_count": 3,
   "id": "b29d0e40",
   "metadata": {
    "execution": {
     "iopub.execute_input": "2024-04-09T23:11:17.249009Z",
     "iopub.status.busy": "2024-04-09T23:11:17.248578Z",
     "iopub.status.idle": "2024-04-09T23:11:17.293096Z",
     "shell.execute_reply": "2024-04-09T23:11:17.291985Z"
    },
    "papermill": {
     "duration": 0.054452,
     "end_time": "2024-04-09T23:11:17.295494",
     "exception": false,
     "start_time": "2024-04-09T23:11:17.241042",
     "status": "completed"
    },
    "tags": []
   },
   "outputs": [
    {
     "data": {
      "text/html": [
       "<table border=\"1\" class=\"dataframe\">\n",
       "  <thead>\n",
       "    <tr style=\"text-align: right;\">\n",
       "      <th></th>\n",
       "      <th>PassengerId</th>\n",
       "      <th>Pclass</th>\n",
       "      <th>Name</th>\n",
       "      <th>Sex</th>\n",
       "      <th>Cabin</th>\n",
       "      <th>Embarked</th>\n",
       "      <th>Ticket</th>\n",
       "      <th>Age_na</th>\n",
       "      <th>Age</th>\n",
       "      <th>Fare</th>\n",
       "      <th>SibSp</th>\n",
       "      <th>Parch</th>\n",
       "      <th>Survived</th>\n",
       "    </tr>\n",
       "  </thead>\n",
       "  <tbody>\n",
       "    <tr>\n",
       "      <th>0</th>\n",
       "      <td>470</td>\n",
       "      <td>3</td>\n",
       "      <td>Baclini, Miss. Helene Barbara</td>\n",
       "      <td>female</td>\n",
       "      <td>#na#</td>\n",
       "      <td>C</td>\n",
       "      <td>2666</td>\n",
       "      <td>False</td>\n",
       "      <td>0.749999</td>\n",
       "      <td>19.258301</td>\n",
       "      <td>2.000000e+00</td>\n",
       "      <td>1.000000e+00</td>\n",
       "      <td>1</td>\n",
       "    </tr>\n",
       "    <tr>\n",
       "      <th>1</th>\n",
       "      <td>106</td>\n",
       "      <td>3</td>\n",
       "      <td>Mionoff, Mr. Stoytcho</td>\n",
       "      <td>male</td>\n",
       "      <td>#na#</td>\n",
       "      <td>S</td>\n",
       "      <td>349207</td>\n",
       "      <td>False</td>\n",
       "      <td>28.000000</td>\n",
       "      <td>7.895799</td>\n",
       "      <td>-5.799985e-10</td>\n",
       "      <td>6.166637e-09</td>\n",
       "      <td>0</td>\n",
       "    </tr>\n",
       "    <tr>\n",
       "      <th>2</th>\n",
       "      <td>760</td>\n",
       "      <td>1</td>\n",
       "      <td>Rothes, the Countess. of (Lucy Noel Martha Dyer-Edwards)</td>\n",
       "      <td>female</td>\n",
       "      <td>B77</td>\n",
       "      <td>S</td>\n",
       "      <td>110152</td>\n",
       "      <td>False</td>\n",
       "      <td>33.000000</td>\n",
       "      <td>86.500003</td>\n",
       "      <td>-5.799985e-10</td>\n",
       "      <td>6.166637e-09</td>\n",
       "      <td>1</td>\n",
       "    </tr>\n",
       "    <tr>\n",
       "      <th>3</th>\n",
       "      <td>727</td>\n",
       "      <td>2</td>\n",
       "      <td>Renouf, Mrs. Peter Henry (Lillian Jefferys)</td>\n",
       "      <td>female</td>\n",
       "      <td>#na#</td>\n",
       "      <td>S</td>\n",
       "      <td>31027</td>\n",
       "      <td>False</td>\n",
       "      <td>30.000000</td>\n",
       "      <td>21.000000</td>\n",
       "      <td>3.000000e+00</td>\n",
       "      <td>6.166637e-09</td>\n",
       "      <td>1</td>\n",
       "    </tr>\n",
       "    <tr>\n",
       "      <th>4</th>\n",
       "      <td>863</td>\n",
       "      <td>1</td>\n",
       "      <td>Swift, Mrs. Frederick Joel (Margaret Welles Barron)</td>\n",
       "      <td>female</td>\n",
       "      <td>D17</td>\n",
       "      <td>S</td>\n",
       "      <td>17466</td>\n",
       "      <td>False</td>\n",
       "      <td>47.999999</td>\n",
       "      <td>25.929199</td>\n",
       "      <td>-5.799985e-10</td>\n",
       "      <td>6.166637e-09</td>\n",
       "      <td>1</td>\n",
       "    </tr>\n",
       "    <tr>\n",
       "      <th>5</th>\n",
       "      <td>167</td>\n",
       "      <td>1</td>\n",
       "      <td>Chibnall, Mrs. (Edith Martha Bowerman)</td>\n",
       "      <td>female</td>\n",
       "      <td>E33</td>\n",
       "      <td>S</td>\n",
       "      <td>113505</td>\n",
       "      <td>True</td>\n",
       "      <td>28.000000</td>\n",
       "      <td>55.000000</td>\n",
       "      <td>-5.799985e-10</td>\n",
       "      <td>1.000000e+00</td>\n",
       "      <td>1</td>\n",
       "    </tr>\n",
       "    <tr>\n",
       "      <th>6</th>\n",
       "      <td>151</td>\n",
       "      <td>2</td>\n",
       "      <td>Bateman, Rev. Robert James</td>\n",
       "      <td>male</td>\n",
       "      <td>#na#</td>\n",
       "      <td>S</td>\n",
       "      <td>S.O.P. 1166</td>\n",
       "      <td>False</td>\n",
       "      <td>51.000000</td>\n",
       "      <td>12.524999</td>\n",
       "      <td>-5.799985e-10</td>\n",
       "      <td>6.166637e-09</td>\n",
       "      <td>0</td>\n",
       "    </tr>\n",
       "    <tr>\n",
       "      <th>7</th>\n",
       "      <td>618</td>\n",
       "      <td>3</td>\n",
       "      <td>Lobb, Mrs. William Arthur (Cordelia K Stanlick)</td>\n",
       "      <td>female</td>\n",
       "      <td>#na#</td>\n",
       "      <td>S</td>\n",
       "      <td>A/5. 3336</td>\n",
       "      <td>False</td>\n",
       "      <td>26.000000</td>\n",
       "      <td>16.100000</td>\n",
       "      <td>1.000000e+00</td>\n",
       "      <td>6.166637e-09</td>\n",
       "      <td>0</td>\n",
       "    </tr>\n",
       "    <tr>\n",
       "      <th>8</th>\n",
       "      <td>474</td>\n",
       "      <td>2</td>\n",
       "      <td>Jerwan, Mrs. Amin S (Marie Marthe Thuillard)</td>\n",
       "      <td>female</td>\n",
       "      <td>D</td>\n",
       "      <td>C</td>\n",
       "      <td>SC/AH Basle 541</td>\n",
       "      <td>False</td>\n",
       "      <td>23.000000</td>\n",
       "      <td>13.791701</td>\n",
       "      <td>-5.799985e-10</td>\n",
       "      <td>6.166637e-09</td>\n",
       "      <td>1</td>\n",
       "    </tr>\n",
       "    <tr>\n",
       "      <th>9</th>\n",
       "      <td>161</td>\n",
       "      <td>3</td>\n",
       "      <td>Cribb, Mr. John Hatfield</td>\n",
       "      <td>male</td>\n",
       "      <td>#na#</td>\n",
       "      <td>S</td>\n",
       "      <td>371362</td>\n",
       "      <td>False</td>\n",
       "      <td>44.000000</td>\n",
       "      <td>16.100000</td>\n",
       "      <td>-5.799985e-10</td>\n",
       "      <td>1.000000e+00</td>\n",
       "      <td>0</td>\n",
       "    </tr>\n",
       "  </tbody>\n",
       "</table>"
      ],
      "text/plain": [
       "<IPython.core.display.HTML object>"
      ]
     },
     "metadata": {},
     "output_type": "display_data"
    }
   ],
   "source": [
    "dls.show_batch()"
   ]
  },
  {
   "cell_type": "code",
   "execution_count": 4,
   "id": "9bcfd103",
   "metadata": {
    "execution": {
     "iopub.execute_input": "2024-04-09T23:11:17.310803Z",
     "iopub.status.busy": "2024-04-09T23:11:17.309710Z",
     "iopub.status.idle": "2024-04-09T23:11:17.356673Z",
     "shell.execute_reply": "2024-04-09T23:11:17.355662Z"
    },
    "papermill": {
     "duration": 0.057315,
     "end_time": "2024-04-09T23:11:17.359337",
     "exception": false,
     "start_time": "2024-04-09T23:11:17.302022",
     "status": "completed"
    },
    "tags": []
   },
   "outputs": [],
   "source": [
    "learn = tabular_learner(dls, metrics=accuracy)"
   ]
  },
  {
   "cell_type": "code",
   "execution_count": 5,
   "id": "4a3decf6",
   "metadata": {
    "execution": {
     "iopub.execute_input": "2024-04-09T23:11:17.373946Z",
     "iopub.status.busy": "2024-04-09T23:11:17.373529Z",
     "iopub.status.idle": "2024-04-09T23:11:18.021406Z",
     "shell.execute_reply": "2024-04-09T23:11:18.020336Z"
    },
    "papermill": {
     "duration": 0.657721,
     "end_time": "2024-04-09T23:11:18.023524",
     "exception": false,
     "start_time": "2024-04-09T23:11:17.365803",
     "status": "completed"
    },
    "tags": []
   },
   "outputs": [
    {
     "data": {
      "text/html": [
       "\n",
       "<style>\n",
       "    /* Turns off some styling */\n",
       "    progress {\n",
       "        /* gets rid of default border in Firefox and Opera. */\n",
       "        border: none;\n",
       "        /* Needs to be in here for Safari polyfill so background images work as expected. */\n",
       "        background-size: auto;\n",
       "    }\n",
       "    progress:not([value]), progress:not([value])::-webkit-progress-bar {\n",
       "        background: repeating-linear-gradient(45deg, #7e7e7e, #7e7e7e 10px, #5c5c5c 10px, #5c5c5c 20px);\n",
       "    }\n",
       "    .progress-bar-interrupted, .progress-bar-interrupted::-webkit-progress-bar {\n",
       "        background: #F44336;\n",
       "    }\n",
       "</style>\n"
      ],
      "text/plain": [
       "<IPython.core.display.HTML object>"
      ]
     },
     "metadata": {},
     "output_type": "display_data"
    },
    {
     "data": {
      "text/html": [
       "<table border=\"1\" class=\"dataframe\">\n",
       "  <thead>\n",
       "    <tr style=\"text-align: left;\">\n",
       "      <th>epoch</th>\n",
       "      <th>train_loss</th>\n",
       "      <th>valid_loss</th>\n",
       "      <th>accuracy</th>\n",
       "      <th>time</th>\n",
       "    </tr>\n",
       "  </thead>\n",
       "  <tbody>\n",
       "    <tr>\n",
       "      <td>0</td>\n",
       "      <td>0.643348</td>\n",
       "      <td>0.667780</td>\n",
       "      <td>0.617977</td>\n",
       "      <td>00:00</td>\n",
       "    </tr>\n",
       "    <tr>\n",
       "      <td>1</td>\n",
       "      <td>0.554879</td>\n",
       "      <td>0.656821</td>\n",
       "      <td>0.634831</td>\n",
       "      <td>00:00</td>\n",
       "    </tr>\n",
       "    <tr>\n",
       "      <td>2</td>\n",
       "      <td>0.460976</td>\n",
       "      <td>0.648176</td>\n",
       "      <td>0.713483</td>\n",
       "      <td>00:00</td>\n",
       "    </tr>\n",
       "  </tbody>\n",
       "</table>"
      ],
      "text/plain": [
       "<IPython.core.display.HTML object>"
      ]
     },
     "metadata": {},
     "output_type": "display_data"
    }
   ],
   "source": [
    "learn.fit_one_cycle(3)"
   ]
  },
  {
   "cell_type": "code",
   "execution_count": 6,
   "id": "268e9eaf",
   "metadata": {
    "execution": {
     "iopub.execute_input": "2024-04-09T23:11:18.038942Z",
     "iopub.status.busy": "2024-04-09T23:11:18.038033Z",
     "iopub.status.idle": "2024-04-09T23:11:18.079986Z",
     "shell.execute_reply": "2024-04-09T23:11:18.078776Z"
    },
    "papermill": {
     "duration": 0.052337,
     "end_time": "2024-04-09T23:11:18.082549",
     "exception": false,
     "start_time": "2024-04-09T23:11:18.030212",
     "status": "completed"
    },
    "tags": []
   },
   "outputs": [
    {
     "data": {
      "text/html": [
       "\n",
       "<style>\n",
       "    /* Turns off some styling */\n",
       "    progress {\n",
       "        /* gets rid of default border in Firefox and Opera. */\n",
       "        border: none;\n",
       "        /* Needs to be in here for Safari polyfill so background images work as expected. */\n",
       "        background-size: auto;\n",
       "    }\n",
       "    progress:not([value]), progress:not([value])::-webkit-progress-bar {\n",
       "        background: repeating-linear-gradient(45deg, #7e7e7e, #7e7e7e 10px, #5c5c5c 10px, #5c5c5c 20px);\n",
       "    }\n",
       "    .progress-bar-interrupted, .progress-bar-interrupted::-webkit-progress-bar {\n",
       "        background: #F44336;\n",
       "    }\n",
       "</style>\n"
      ],
      "text/plain": [
       "<IPython.core.display.HTML object>"
      ]
     },
     "metadata": {},
     "output_type": "display_data"
    },
    {
     "data": {
      "text/html": [],
      "text/plain": [
       "<IPython.core.display.HTML object>"
      ]
     },
     "metadata": {},
     "output_type": "display_data"
    },
    {
     "data": {
      "text/html": [
       "<table border=\"1\" class=\"dataframe\">\n",
       "  <thead>\n",
       "    <tr style=\"text-align: right;\">\n",
       "      <th></th>\n",
       "      <th>PassengerId</th>\n",
       "      <th>Pclass</th>\n",
       "      <th>Name</th>\n",
       "      <th>Sex</th>\n",
       "      <th>Cabin</th>\n",
       "      <th>Embarked</th>\n",
       "      <th>Ticket</th>\n",
       "      <th>Age_na</th>\n",
       "      <th>Age</th>\n",
       "      <th>Fare</th>\n",
       "      <th>SibSp</th>\n",
       "      <th>Parch</th>\n",
       "      <th>Survived</th>\n",
       "      <th>Survived_pred</th>\n",
       "    </tr>\n",
       "  </thead>\n",
       "  <tbody>\n",
       "    <tr>\n",
       "      <th>0</th>\n",
       "      <td>0.0</td>\n",
       "      <td>1.0</td>\n",
       "      <td>699.0</td>\n",
       "      <td>2.0</td>\n",
       "      <td>0.0</td>\n",
       "      <td>3.0</td>\n",
       "      <td>12.0</td>\n",
       "      <td>1.0</td>\n",
       "      <td>1.211115</td>\n",
       "      <td>-0.111217</td>\n",
       "      <td>-0.494076</td>\n",
       "      <td>-0.467530</td>\n",
       "      <td>1.0</td>\n",
       "      <td>0.0</td>\n",
       "    </tr>\n",
       "    <tr>\n",
       "      <th>1</th>\n",
       "      <td>0.0</td>\n",
       "      <td>3.0</td>\n",
       "      <td>408.0</td>\n",
       "      <td>2.0</td>\n",
       "      <td>0.0</td>\n",
       "      <td>3.0</td>\n",
       "      <td>345.0</td>\n",
       "      <td>1.0</td>\n",
       "      <td>-1.946924</td>\n",
       "      <td>-0.424167</td>\n",
       "      <td>0.492692</td>\n",
       "      <td>0.767095</td>\n",
       "      <td>1.0</td>\n",
       "      <td>1.0</td>\n",
       "    </tr>\n",
       "    <tr>\n",
       "      <th>2</th>\n",
       "      <td>0.0</td>\n",
       "      <td>1.0</td>\n",
       "      <td>95.0</td>\n",
       "      <td>2.0</td>\n",
       "      <td>9.0</td>\n",
       "      <td>1.0</td>\n",
       "      <td>18.0</td>\n",
       "      <td>1.0</td>\n",
       "      <td>0.825988</td>\n",
       "      <td>-0.020885</td>\n",
       "      <td>-0.494076</td>\n",
       "      <td>-0.467530</td>\n",
       "      <td>1.0</td>\n",
       "      <td>1.0</td>\n",
       "    </tr>\n",
       "    <tr>\n",
       "      <th>3</th>\n",
       "      <td>0.0</td>\n",
       "      <td>3.0</td>\n",
       "      <td>108.0</td>\n",
       "      <td>2.0</td>\n",
       "      <td>0.0</td>\n",
       "      <td>3.0</td>\n",
       "      <td>316.0</td>\n",
       "      <td>1.0</td>\n",
       "      <td>-0.021291</td>\n",
       "      <td>-0.507141</td>\n",
       "      <td>0.492692</td>\n",
       "      <td>-0.467530</td>\n",
       "      <td>0.0</td>\n",
       "      <td>0.0</td>\n",
       "    </tr>\n",
       "    <tr>\n",
       "      <th>4</th>\n",
       "      <td>0.0</td>\n",
       "      <td>3.0</td>\n",
       "      <td>789.0</td>\n",
       "      <td>2.0</td>\n",
       "      <td>0.0</td>\n",
       "      <td>3.0</td>\n",
       "      <td>663.0</td>\n",
       "      <td>1.0</td>\n",
       "      <td>0.132760</td>\n",
       "      <td>-0.489294</td>\n",
       "      <td>-0.494076</td>\n",
       "      <td>-0.467530</td>\n",
       "      <td>1.0</td>\n",
       "      <td>0.0</td>\n",
       "    </tr>\n",
       "    <tr>\n",
       "      <th>5</th>\n",
       "      <td>0.0</td>\n",
       "      <td>3.0</td>\n",
       "      <td>730.0</td>\n",
       "      <td>2.0</td>\n",
       "      <td>0.0</td>\n",
       "      <td>3.0</td>\n",
       "      <td>536.0</td>\n",
       "      <td>1.0</td>\n",
       "      <td>-0.714519</td>\n",
       "      <td>-0.486757</td>\n",
       "      <td>-0.494076</td>\n",
       "      <td>-0.467530</td>\n",
       "      <td>0.0</td>\n",
       "      <td>0.0</td>\n",
       "    </tr>\n",
       "    <tr>\n",
       "      <th>6</th>\n",
       "      <td>0.0</td>\n",
       "      <td>3.0</td>\n",
       "      <td>372.0</td>\n",
       "      <td>2.0</td>\n",
       "      <td>0.0</td>\n",
       "      <td>3.0</td>\n",
       "      <td>544.0</td>\n",
       "      <td>1.0</td>\n",
       "      <td>1.057064</td>\n",
       "      <td>-0.519236</td>\n",
       "      <td>-0.494076</td>\n",
       "      <td>-0.467530</td>\n",
       "      <td>0.0</td>\n",
       "      <td>0.0</td>\n",
       "    </tr>\n",
       "    <tr>\n",
       "      <th>7</th>\n",
       "      <td>0.0</td>\n",
       "      <td>2.0</td>\n",
       "      <td>78.0</td>\n",
       "      <td>1.0</td>\n",
       "      <td>145.0</td>\n",
       "      <td>3.0</td>\n",
       "      <td>115.0</td>\n",
       "      <td>1.0</td>\n",
       "      <td>-1.946924</td>\n",
       "      <td>0.141510</td>\n",
       "      <td>1.479460</td>\n",
       "      <td>0.767095</td>\n",
       "      <td>1.0</td>\n",
       "      <td>1.0</td>\n",
       "    </tr>\n",
       "    <tr>\n",
       "      <th>8</th>\n",
       "      <td>0.0</td>\n",
       "      <td>3.0</td>\n",
       "      <td>574.0</td>\n",
       "      <td>2.0</td>\n",
       "      <td>0.0</td>\n",
       "      <td>1.0</td>\n",
       "      <td>188.0</td>\n",
       "      <td>1.0</td>\n",
       "      <td>-0.714519</td>\n",
       "      <td>-0.330620</td>\n",
       "      <td>0.492692</td>\n",
       "      <td>0.767095</td>\n",
       "      <td>1.0</td>\n",
       "      <td>0.0</td>\n",
       "    </tr>\n",
       "  </tbody>\n",
       "</table>"
      ],
      "text/plain": [
       "<IPython.core.display.HTML object>"
      ]
     },
     "metadata": {},
     "output_type": "display_data"
    }
   ],
   "source": [
    "learn.show_results()"
   ]
  },
  {
   "cell_type": "markdown",
   "id": "484c7a86",
   "metadata": {
    "papermill": {
     "duration": 0.006844,
     "end_time": "2024-04-09T23:11:18.097058",
     "exception": false,
     "start_time": "2024-04-09T23:11:18.090214",
     "status": "completed"
    },
    "tags": []
   },
   "source": [
    "Lets try now by using pandas"
   ]
  },
  {
   "cell_type": "code",
   "execution_count": 7,
   "id": "98476f6c",
   "metadata": {
    "execution": {
     "iopub.execute_input": "2024-04-09T23:11:18.113339Z",
     "iopub.status.busy": "2024-04-09T23:11:18.112867Z",
     "iopub.status.idle": "2024-04-09T23:11:18.117987Z",
     "shell.execute_reply": "2024-04-09T23:11:18.117091Z"
    },
    "papermill": {
     "duration": 0.015595,
     "end_time": "2024-04-09T23:11:18.119857",
     "exception": false,
     "start_time": "2024-04-09T23:11:18.104262",
     "status": "completed"
    },
    "tags": []
   },
   "outputs": [],
   "source": [
    "splits = RandomSplitter(valid_pct=0.2)(range_of(df))"
   ]
  },
  {
   "cell_type": "code",
   "execution_count": 8,
   "id": "6d2ae005",
   "metadata": {
    "execution": {
     "iopub.execute_input": "2024-04-09T23:11:18.137591Z",
     "iopub.status.busy": "2024-04-09T23:11:18.136697Z",
     "iopub.status.idle": "2024-04-09T23:11:18.175561Z",
     "shell.execute_reply": "2024-04-09T23:11:18.174706Z"
    },
    "papermill": {
     "duration": 0.049856,
     "end_time": "2024-04-09T23:11:18.178102",
     "exception": false,
     "start_time": "2024-04-09T23:11:18.128246",
     "status": "completed"
    },
    "tags": []
   },
   "outputs": [
    {
     "name": "stderr",
     "output_type": "stream",
     "text": [
      "/opt/conda/lib/python3.10/site-packages/fastai/tabular/core.py:312: FutureWarning: A value is trying to be set on a copy of a DataFrame or Series through chained assignment using an inplace method.\n",
      "The behavior will change in pandas 3.0. This inplace method will never work because the intermediate object on which we are setting values always behaves as a copy.\n",
      "\n",
      "For example, when doing 'df[col].method(value, inplace=True)', try using 'df.method({col: value}, inplace=True)' or df[col] = df[col].method(value) instead, to perform the operation inplace on the original object.\n",
      "\n",
      "\n",
      "  to[n].fillna(self.na_dict[n], inplace=True)\n"
     ]
    }
   ],
   "source": [
    "to = TabularPandas(df, procs=[Categorify, FillMissing,Normalize],\n",
    "                   cat_names = ['Pclass', 'Name', 'Sex', 'Cabin', 'Embarked', 'Ticket'],\n",
    "                   cont_names = ['Age', 'Fare', 'SibSp', 'Parch'],\n",
    "                   y_names='Survived',\n",
    "                   splits=splits)"
   ]
  },
  {
   "cell_type": "code",
   "execution_count": 9,
   "id": "756a75fa",
   "metadata": {
    "execution": {
     "iopub.execute_input": "2024-04-09T23:11:18.194964Z",
     "iopub.status.busy": "2024-04-09T23:11:18.194531Z",
     "iopub.status.idle": "2024-04-09T23:11:18.209420Z",
     "shell.execute_reply": "2024-04-09T23:11:18.208272Z"
    },
    "papermill": {
     "duration": 0.02603,
     "end_time": "2024-04-09T23:11:18.211678",
     "exception": false,
     "start_time": "2024-04-09T23:11:18.185648",
     "status": "completed"
    },
    "tags": []
   },
   "outputs": [
    {
     "data": {
      "text/html": [
       "<div>\n",
       "<style scoped>\n",
       "    .dataframe tbody tr th:only-of-type {\n",
       "        vertical-align: middle;\n",
       "    }\n",
       "\n",
       "    .dataframe tbody tr th {\n",
       "        vertical-align: top;\n",
       "    }\n",
       "\n",
       "    .dataframe thead th {\n",
       "        text-align: right;\n",
       "    }\n",
       "</style>\n",
       "<table border=\"1\" class=\"dataframe\">\n",
       "  <thead>\n",
       "    <tr style=\"text-align: right;\">\n",
       "      <th></th>\n",
       "      <th>Pclass</th>\n",
       "      <th>Name</th>\n",
       "      <th>Sex</th>\n",
       "      <th>Cabin</th>\n",
       "      <th>Embarked</th>\n",
       "      <th>Ticket</th>\n",
       "      <th>Age_na</th>\n",
       "      <th>Age</th>\n",
       "      <th>Fare</th>\n",
       "      <th>SibSp</th>\n",
       "      <th>Parch</th>\n",
       "    </tr>\n",
       "  </thead>\n",
       "  <tbody>\n",
       "    <tr>\n",
       "      <th>678</th>\n",
       "      <td>3</td>\n",
       "      <td>303</td>\n",
       "      <td>1</td>\n",
       "      <td>0</td>\n",
       "      <td>3</td>\n",
       "      <td>567</td>\n",
       "      <td>1</td>\n",
       "      <td>1.089565</td>\n",
       "      <td>0.308853</td>\n",
       "      <td>0.409827</td>\n",
       "      <td>6.890134</td>\n",
       "    </tr>\n",
       "    <tr>\n",
       "      <th>22</th>\n",
       "      <td>3</td>\n",
       "      <td>524</td>\n",
       "      <td>1</td>\n",
       "      <td>0</td>\n",
       "      <td>2</td>\n",
       "      <td>279</td>\n",
       "      <td>1</td>\n",
       "      <td>-1.085462</td>\n",
       "      <td>-0.465232</td>\n",
       "      <td>-0.465044</td>\n",
       "      <td>-0.475182</td>\n",
       "    </tr>\n",
       "  </tbody>\n",
       "</table>\n",
       "</div>"
      ],
      "text/plain": [
       "     Pclass  Name  Sex  Cabin  Embarked  Ticket  Age_na       Age      Fare  \\\n",
       "678       3   303    1      0         3     567       1  1.089565  0.308853   \n",
       "22        3   524    1      0         2     279       1 -1.085462 -0.465232   \n",
       "\n",
       "        SibSp     Parch  \n",
       "678  0.409827  6.890134  \n",
       "22  -0.465044 -0.475182  "
      ]
     },
     "execution_count": 9,
     "metadata": {},
     "output_type": "execute_result"
    }
   ],
   "source": [
    "to.xs.iloc[:2]"
   ]
  },
  {
   "cell_type": "code",
   "execution_count": 10,
   "id": "aea8a36d",
   "metadata": {
    "execution": {
     "iopub.execute_input": "2024-04-09T23:11:18.228316Z",
     "iopub.status.busy": "2024-04-09T23:11:18.227881Z",
     "iopub.status.idle": "2024-04-09T23:11:18.241808Z",
     "shell.execute_reply": "2024-04-09T23:11:18.240734Z"
    },
    "papermill": {
     "duration": 0.02535,
     "end_time": "2024-04-09T23:11:18.244458",
     "exception": false,
     "start_time": "2024-04-09T23:11:18.219108",
     "status": "completed"
    },
    "tags": []
   },
   "outputs": [],
   "source": [
    "dls2 = to.dataloaders(bs=64)"
   ]
  },
  {
   "cell_type": "code",
   "execution_count": 11,
   "id": "a23d366d",
   "metadata": {
    "execution": {
     "iopub.execute_input": "2024-04-09T23:11:18.262367Z",
     "iopub.status.busy": "2024-04-09T23:11:18.261119Z",
     "iopub.status.idle": "2024-04-09T23:11:18.290692Z",
     "shell.execute_reply": "2024-04-09T23:11:18.289595Z"
    },
    "papermill": {
     "duration": 0.041094,
     "end_time": "2024-04-09T23:11:18.293210",
     "exception": false,
     "start_time": "2024-04-09T23:11:18.252116",
     "status": "completed"
    },
    "tags": []
   },
   "outputs": [
    {
     "data": {
      "text/html": [
       "<table border=\"1\" class=\"dataframe\">\n",
       "  <thead>\n",
       "    <tr style=\"text-align: right;\">\n",
       "      <th></th>\n",
       "      <th>Pclass</th>\n",
       "      <th>Name</th>\n",
       "      <th>Sex</th>\n",
       "      <th>Cabin</th>\n",
       "      <th>Embarked</th>\n",
       "      <th>Ticket</th>\n",
       "      <th>Age_na</th>\n",
       "      <th>Age</th>\n",
       "      <th>Fare</th>\n",
       "      <th>SibSp</th>\n",
       "      <th>Parch</th>\n",
       "      <th>Survived</th>\n",
       "    </tr>\n",
       "  </thead>\n",
       "  <tbody>\n",
       "    <tr>\n",
       "      <th>0</th>\n",
       "      <td>3</td>\n",
       "      <td>Badt, Mr. Mohamed</td>\n",
       "      <td>male</td>\n",
       "      <td>#na#</td>\n",
       "      <td>C</td>\n",
       "      <td>2623</td>\n",
       "      <td>False</td>\n",
       "      <td>40.000000</td>\n",
       "      <td>7.225000</td>\n",
       "      <td>1.390937e-08</td>\n",
       "      <td>7.796364e-09</td>\n",
       "      <td>0.0</td>\n",
       "    </tr>\n",
       "    <tr>\n",
       "      <th>1</th>\n",
       "      <td>3</td>\n",
       "      <td>Lindblom, Miss. Augusta Charlotta</td>\n",
       "      <td>female</td>\n",
       "      <td>#na#</td>\n",
       "      <td>S</td>\n",
       "      <td>347073</td>\n",
       "      <td>False</td>\n",
       "      <td>45.000000</td>\n",
       "      <td>7.750001</td>\n",
       "      <td>1.390937e-08</td>\n",
       "      <td>7.796364e-09</td>\n",
       "      <td>0.0</td>\n",
       "    </tr>\n",
       "    <tr>\n",
       "      <th>2</th>\n",
       "      <td>3</td>\n",
       "      <td>Henry, Miss. Delia</td>\n",
       "      <td>female</td>\n",
       "      <td>#na#</td>\n",
       "      <td>Q</td>\n",
       "      <td>382649</td>\n",
       "      <td>True</td>\n",
       "      <td>28.000000</td>\n",
       "      <td>7.750001</td>\n",
       "      <td>1.390937e-08</td>\n",
       "      <td>7.796364e-09</td>\n",
       "      <td>0.0</td>\n",
       "    </tr>\n",
       "    <tr>\n",
       "      <th>3</th>\n",
       "      <td>3</td>\n",
       "      <td>Sage, Master. Thomas Henry</td>\n",
       "      <td>male</td>\n",
       "      <td>#na#</td>\n",
       "      <td>S</td>\n",
       "      <td>CA. 2343</td>\n",
       "      <td>True</td>\n",
       "      <td>28.000000</td>\n",
       "      <td>69.550002</td>\n",
       "      <td>8.000000e+00</td>\n",
       "      <td>2.000000e+00</td>\n",
       "      <td>0.0</td>\n",
       "    </tr>\n",
       "    <tr>\n",
       "      <th>4</th>\n",
       "      <td>3</td>\n",
       "      <td>Lefebre, Miss. Jeannie</td>\n",
       "      <td>female</td>\n",
       "      <td>#na#</td>\n",
       "      <td>S</td>\n",
       "      <td>4133</td>\n",
       "      <td>True</td>\n",
       "      <td>28.000000</td>\n",
       "      <td>25.466700</td>\n",
       "      <td>3.000000e+00</td>\n",
       "      <td>1.000000e+00</td>\n",
       "      <td>0.0</td>\n",
       "    </tr>\n",
       "    <tr>\n",
       "      <th>5</th>\n",
       "      <td>1</td>\n",
       "      <td>Partner, Mr. Austen</td>\n",
       "      <td>male</td>\n",
       "      <td>C124</td>\n",
       "      <td>S</td>\n",
       "      <td>113043</td>\n",
       "      <td>False</td>\n",
       "      <td>45.499999</td>\n",
       "      <td>28.500000</td>\n",
       "      <td>1.390937e-08</td>\n",
       "      <td>7.796364e-09</td>\n",
       "      <td>0.0</td>\n",
       "    </tr>\n",
       "    <tr>\n",
       "      <th>6</th>\n",
       "      <td>1</td>\n",
       "      <td>Graham, Mrs. William Thompson (Edith Junkins)</td>\n",
       "      <td>female</td>\n",
       "      <td>C125</td>\n",
       "      <td>S</td>\n",
       "      <td>PC 17582</td>\n",
       "      <td>False</td>\n",
       "      <td>58.000000</td>\n",
       "      <td>153.462491</td>\n",
       "      <td>1.390937e-08</td>\n",
       "      <td>1.000000e+00</td>\n",
       "      <td>1.0</td>\n",
       "    </tr>\n",
       "    <tr>\n",
       "      <th>7</th>\n",
       "      <td>3</td>\n",
       "      <td>Markun, Mr. Johann</td>\n",
       "      <td>male</td>\n",
       "      <td>#na#</td>\n",
       "      <td>S</td>\n",
       "      <td>349257</td>\n",
       "      <td>False</td>\n",
       "      <td>33.000000</td>\n",
       "      <td>7.895800</td>\n",
       "      <td>1.390937e-08</td>\n",
       "      <td>7.796364e-09</td>\n",
       "      <td>0.0</td>\n",
       "    </tr>\n",
       "    <tr>\n",
       "      <th>8</th>\n",
       "      <td>3</td>\n",
       "      <td>Ilmakangas, Miss. Pieta Sofia</td>\n",
       "      <td>female</td>\n",
       "      <td>#na#</td>\n",
       "      <td>S</td>\n",
       "      <td>STON/O2. 3101271</td>\n",
       "      <td>False</td>\n",
       "      <td>25.000000</td>\n",
       "      <td>7.925000</td>\n",
       "      <td>1.000000e+00</td>\n",
       "      <td>7.796364e-09</td>\n",
       "      <td>0.0</td>\n",
       "    </tr>\n",
       "    <tr>\n",
       "      <th>9</th>\n",
       "      <td>1</td>\n",
       "      <td>Kent, Mr. Edward Austin</td>\n",
       "      <td>male</td>\n",
       "      <td>B37</td>\n",
       "      <td>C</td>\n",
       "      <td>11771</td>\n",
       "      <td>False</td>\n",
       "      <td>58.000000</td>\n",
       "      <td>29.700001</td>\n",
       "      <td>1.390937e-08</td>\n",
       "      <td>7.796364e-09</td>\n",
       "      <td>0.0</td>\n",
       "    </tr>\n",
       "  </tbody>\n",
       "</table>"
      ],
      "text/plain": [
       "<IPython.core.display.HTML object>"
      ]
     },
     "metadata": {},
     "output_type": "display_data"
    }
   ],
   "source": [
    "dls2.show_batch()"
   ]
  },
  {
   "cell_type": "code",
   "execution_count": 12,
   "id": "fb5ed6c7",
   "metadata": {
    "execution": {
     "iopub.execute_input": "2024-04-09T23:11:18.311020Z",
     "iopub.status.busy": "2024-04-09T23:11:18.310403Z",
     "iopub.status.idle": "2024-04-09T23:11:18.322100Z",
     "shell.execute_reply": "2024-04-09T23:11:18.321121Z"
    },
    "papermill": {
     "duration": 0.02381,
     "end_time": "2024-04-09T23:11:18.324687",
     "exception": false,
     "start_time": "2024-04-09T23:11:18.300877",
     "status": "completed"
    },
    "tags": []
   },
   "outputs": [],
   "source": [
    "learn2 = tabular_learner(dls2, metrics=accuracy)"
   ]
  },
  {
   "cell_type": "code",
   "execution_count": 13,
   "id": "3e62ae4a",
   "metadata": {
    "execution": {
     "iopub.execute_input": "2024-04-09T23:11:18.342593Z",
     "iopub.status.busy": "2024-04-09T23:11:18.341926Z",
     "iopub.status.idle": "2024-04-09T23:11:18.904813Z",
     "shell.execute_reply": "2024-04-09T23:11:18.903972Z"
    },
    "papermill": {
     "duration": 0.574631,
     "end_time": "2024-04-09T23:11:18.907127",
     "exception": false,
     "start_time": "2024-04-09T23:11:18.332496",
     "status": "completed"
    },
    "tags": []
   },
   "outputs": [
    {
     "data": {
      "text/html": [
       "\n",
       "<style>\n",
       "    /* Turns off some styling */\n",
       "    progress {\n",
       "        /* gets rid of default border in Firefox and Opera. */\n",
       "        border: none;\n",
       "        /* Needs to be in here for Safari polyfill so background images work as expected. */\n",
       "        background-size: auto;\n",
       "    }\n",
       "    progress:not([value]), progress:not([value])::-webkit-progress-bar {\n",
       "        background: repeating-linear-gradient(45deg, #7e7e7e, #7e7e7e 10px, #5c5c5c 10px, #5c5c5c 20px);\n",
       "    }\n",
       "    .progress-bar-interrupted, .progress-bar-interrupted::-webkit-progress-bar {\n",
       "        background: #F44336;\n",
       "    }\n",
       "</style>\n"
      ],
      "text/plain": [
       "<IPython.core.display.HTML object>"
      ]
     },
     "metadata": {},
     "output_type": "display_data"
    },
    {
     "data": {
      "text/html": [
       "<table border=\"1\" class=\"dataframe\">\n",
       "  <thead>\n",
       "    <tr style=\"text-align: left;\">\n",
       "      <th>epoch</th>\n",
       "      <th>train_loss</th>\n",
       "      <th>valid_loss</th>\n",
       "      <th>accuracy</th>\n",
       "      <th>time</th>\n",
       "    </tr>\n",
       "  </thead>\n",
       "  <tbody>\n",
       "    <tr>\n",
       "      <td>0</td>\n",
       "      <td>0.556950</td>\n",
       "      <td>0.363880</td>\n",
       "      <td>0.646067</td>\n",
       "      <td>00:00</td>\n",
       "    </tr>\n",
       "    <tr>\n",
       "      <td>1</td>\n",
       "      <td>0.442881</td>\n",
       "      <td>0.341257</td>\n",
       "      <td>0.646067</td>\n",
       "      <td>00:00</td>\n",
       "    </tr>\n",
       "    <tr>\n",
       "      <td>2</td>\n",
       "      <td>0.361664</td>\n",
       "      <td>0.314855</td>\n",
       "      <td>0.646067</td>\n",
       "      <td>00:00</td>\n",
       "    </tr>\n",
       "  </tbody>\n",
       "</table>"
      ],
      "text/plain": [
       "<IPython.core.display.HTML object>"
      ]
     },
     "metadata": {},
     "output_type": "display_data"
    }
   ],
   "source": [
    "learn2.fit_one_cycle(3)"
   ]
  },
  {
   "cell_type": "markdown",
   "id": "8f78d196",
   "metadata": {
    "papermill": {
     "duration": 0.00815,
     "end_time": "2024-04-09T23:11:18.923467",
     "exception": false,
     "start_time": "2024-04-09T23:11:18.915317",
     "status": "completed"
    },
    "tags": []
   },
   "source": [
    "Now lets tree random forests (better at tabular data in general see: https://medium.com/geekculture/why-tree-based-models-beat-deep-learning-on-tabular-data-fcad692b1456)"
   ]
  },
  {
   "cell_type": "markdown",
   "id": "860f60f2",
   "metadata": {
    "papermill": {
     "duration": 0.007773,
     "end_time": "2024-04-09T23:11:18.939237",
     "exception": false,
     "start_time": "2024-04-09T23:11:18.931464",
     "status": "completed"
    },
    "tags": []
   },
   "source": [
    "The following code is from a tutorial on the titanic submissions https://www.kaggle.com/code/alexisbcook/titanic-tutorial"
   ]
  },
  {
   "cell_type": "code",
   "execution_count": 14,
   "id": "66fd0f7d",
   "metadata": {
    "execution": {
     "iopub.execute_input": "2024-04-09T23:11:18.958848Z",
     "iopub.status.busy": "2024-04-09T23:11:18.957715Z",
     "iopub.status.idle": "2024-04-09T23:11:18.978574Z",
     "shell.execute_reply": "2024-04-09T23:11:18.977407Z"
    },
    "papermill": {
     "duration": 0.03354,
     "end_time": "2024-04-09T23:11:18.980835",
     "exception": false,
     "start_time": "2024-04-09T23:11:18.947295",
     "status": "completed"
    },
    "tags": []
   },
   "outputs": [
    {
     "data": {
      "text/html": [
       "<div>\n",
       "<style scoped>\n",
       "    .dataframe tbody tr th:only-of-type {\n",
       "        vertical-align: middle;\n",
       "    }\n",
       "\n",
       "    .dataframe tbody tr th {\n",
       "        vertical-align: top;\n",
       "    }\n",
       "\n",
       "    .dataframe thead th {\n",
       "        text-align: right;\n",
       "    }\n",
       "</style>\n",
       "<table border=\"1\" class=\"dataframe\">\n",
       "  <thead>\n",
       "    <tr style=\"text-align: right;\">\n",
       "      <th></th>\n",
       "      <th>PassengerId</th>\n",
       "      <th>Survived</th>\n",
       "      <th>Pclass</th>\n",
       "      <th>Name</th>\n",
       "      <th>Sex</th>\n",
       "      <th>Age</th>\n",
       "      <th>SibSp</th>\n",
       "      <th>Parch</th>\n",
       "      <th>Ticket</th>\n",
       "      <th>Fare</th>\n",
       "      <th>Cabin</th>\n",
       "      <th>Embarked</th>\n",
       "    </tr>\n",
       "  </thead>\n",
       "  <tbody>\n",
       "    <tr>\n",
       "      <th>0</th>\n",
       "      <td>1</td>\n",
       "      <td>0</td>\n",
       "      <td>3</td>\n",
       "      <td>Braund, Mr. Owen Harris</td>\n",
       "      <td>male</td>\n",
       "      <td>22.0</td>\n",
       "      <td>1</td>\n",
       "      <td>0</td>\n",
       "      <td>A/5 21171</td>\n",
       "      <td>7.2500</td>\n",
       "      <td>NaN</td>\n",
       "      <td>S</td>\n",
       "    </tr>\n",
       "    <tr>\n",
       "      <th>1</th>\n",
       "      <td>2</td>\n",
       "      <td>1</td>\n",
       "      <td>1</td>\n",
       "      <td>Cumings, Mrs. John Bradley (Florence Briggs Thayer)</td>\n",
       "      <td>female</td>\n",
       "      <td>38.0</td>\n",
       "      <td>1</td>\n",
       "      <td>0</td>\n",
       "      <td>PC 17599</td>\n",
       "      <td>71.2833</td>\n",
       "      <td>C85</td>\n",
       "      <td>C</td>\n",
       "    </tr>\n",
       "    <tr>\n",
       "      <th>2</th>\n",
       "      <td>3</td>\n",
       "      <td>1</td>\n",
       "      <td>3</td>\n",
       "      <td>Heikkinen, Miss. Laina</td>\n",
       "      <td>female</td>\n",
       "      <td>26.0</td>\n",
       "      <td>0</td>\n",
       "      <td>0</td>\n",
       "      <td>STON/O2. 3101282</td>\n",
       "      <td>7.9250</td>\n",
       "      <td>NaN</td>\n",
       "      <td>S</td>\n",
       "    </tr>\n",
       "    <tr>\n",
       "      <th>3</th>\n",
       "      <td>4</td>\n",
       "      <td>1</td>\n",
       "      <td>1</td>\n",
       "      <td>Futrelle, Mrs. Jacques Heath (Lily May Peel)</td>\n",
       "      <td>female</td>\n",
       "      <td>35.0</td>\n",
       "      <td>1</td>\n",
       "      <td>0</td>\n",
       "      <td>113803</td>\n",
       "      <td>53.1000</td>\n",
       "      <td>C123</td>\n",
       "      <td>S</td>\n",
       "    </tr>\n",
       "    <tr>\n",
       "      <th>4</th>\n",
       "      <td>5</td>\n",
       "      <td>0</td>\n",
       "      <td>3</td>\n",
       "      <td>Allen, Mr. William Henry</td>\n",
       "      <td>male</td>\n",
       "      <td>35.0</td>\n",
       "      <td>0</td>\n",
       "      <td>0</td>\n",
       "      <td>373450</td>\n",
       "      <td>8.0500</td>\n",
       "      <td>NaN</td>\n",
       "      <td>S</td>\n",
       "    </tr>\n",
       "  </tbody>\n",
       "</table>\n",
       "</div>"
      ],
      "text/plain": [
       "   PassengerId  Survived  Pclass  \\\n",
       "0            1         0       3   \n",
       "1            2         1       1   \n",
       "2            3         1       3   \n",
       "3            4         1       1   \n",
       "4            5         0       3   \n",
       "\n",
       "                                                  Name     Sex   Age  SibSp  \\\n",
       "0                              Braund, Mr. Owen Harris    male  22.0      1   \n",
       "1  Cumings, Mrs. John Bradley (Florence Briggs Thayer)  female  38.0      1   \n",
       "2                               Heikkinen, Miss. Laina  female  26.0      0   \n",
       "3         Futrelle, Mrs. Jacques Heath (Lily May Peel)  female  35.0      1   \n",
       "4                             Allen, Mr. William Henry    male  35.0      0   \n",
       "\n",
       "   Parch            Ticket     Fare Cabin Embarked  \n",
       "0      0         A/5 21171   7.2500   NaN        S  \n",
       "1      0          PC 17599  71.2833   C85        C  \n",
       "2      0  STON/O2. 3101282   7.9250   NaN        S  \n",
       "3      0            113803  53.1000  C123        S  \n",
       "4      0            373450   8.0500   NaN        S  "
      ]
     },
     "execution_count": 14,
     "metadata": {},
     "output_type": "execute_result"
    }
   ],
   "source": [
    "train_data = pd.read_csv(\"/kaggle/input/titanic/train.csv\")\n",
    "train_data.head()"
   ]
  },
  {
   "cell_type": "code",
   "execution_count": 15,
   "id": "8532e80f",
   "metadata": {
    "execution": {
     "iopub.execute_input": "2024-04-09T23:11:18.999691Z",
     "iopub.status.busy": "2024-04-09T23:11:18.999039Z",
     "iopub.status.idle": "2024-04-09T23:11:19.026759Z",
     "shell.execute_reply": "2024-04-09T23:11:19.025941Z"
    },
    "papermill": {
     "duration": 0.040022,
     "end_time": "2024-04-09T23:11:19.029190",
     "exception": false,
     "start_time": "2024-04-09T23:11:18.989168",
     "status": "completed"
    },
    "tags": []
   },
   "outputs": [
    {
     "data": {
      "text/html": [
       "<div>\n",
       "<style scoped>\n",
       "    .dataframe tbody tr th:only-of-type {\n",
       "        vertical-align: middle;\n",
       "    }\n",
       "\n",
       "    .dataframe tbody tr th {\n",
       "        vertical-align: top;\n",
       "    }\n",
       "\n",
       "    .dataframe thead th {\n",
       "        text-align: right;\n",
       "    }\n",
       "</style>\n",
       "<table border=\"1\" class=\"dataframe\">\n",
       "  <thead>\n",
       "    <tr style=\"text-align: right;\">\n",
       "      <th></th>\n",
       "      <th>PassengerId</th>\n",
       "      <th>Pclass</th>\n",
       "      <th>Name</th>\n",
       "      <th>Sex</th>\n",
       "      <th>Age</th>\n",
       "      <th>SibSp</th>\n",
       "      <th>Parch</th>\n",
       "      <th>Ticket</th>\n",
       "      <th>Fare</th>\n",
       "      <th>Cabin</th>\n",
       "      <th>Embarked</th>\n",
       "    </tr>\n",
       "  </thead>\n",
       "  <tbody>\n",
       "    <tr>\n",
       "      <th>0</th>\n",
       "      <td>892</td>\n",
       "      <td>3</td>\n",
       "      <td>Kelly, Mr. James</td>\n",
       "      <td>male</td>\n",
       "      <td>34.5</td>\n",
       "      <td>0</td>\n",
       "      <td>0</td>\n",
       "      <td>330911</td>\n",
       "      <td>7.8292</td>\n",
       "      <td>NaN</td>\n",
       "      <td>Q</td>\n",
       "    </tr>\n",
       "    <tr>\n",
       "      <th>1</th>\n",
       "      <td>893</td>\n",
       "      <td>3</td>\n",
       "      <td>Wilkes, Mrs. James (Ellen Needs)</td>\n",
       "      <td>female</td>\n",
       "      <td>47.0</td>\n",
       "      <td>1</td>\n",
       "      <td>0</td>\n",
       "      <td>363272</td>\n",
       "      <td>7.0000</td>\n",
       "      <td>NaN</td>\n",
       "      <td>S</td>\n",
       "    </tr>\n",
       "    <tr>\n",
       "      <th>2</th>\n",
       "      <td>894</td>\n",
       "      <td>2</td>\n",
       "      <td>Myles, Mr. Thomas Francis</td>\n",
       "      <td>male</td>\n",
       "      <td>62.0</td>\n",
       "      <td>0</td>\n",
       "      <td>0</td>\n",
       "      <td>240276</td>\n",
       "      <td>9.6875</td>\n",
       "      <td>NaN</td>\n",
       "      <td>Q</td>\n",
       "    </tr>\n",
       "    <tr>\n",
       "      <th>3</th>\n",
       "      <td>895</td>\n",
       "      <td>3</td>\n",
       "      <td>Wirz, Mr. Albert</td>\n",
       "      <td>male</td>\n",
       "      <td>27.0</td>\n",
       "      <td>0</td>\n",
       "      <td>0</td>\n",
       "      <td>315154</td>\n",
       "      <td>8.6625</td>\n",
       "      <td>NaN</td>\n",
       "      <td>S</td>\n",
       "    </tr>\n",
       "    <tr>\n",
       "      <th>4</th>\n",
       "      <td>896</td>\n",
       "      <td>3</td>\n",
       "      <td>Hirvonen, Mrs. Alexander (Helga E Lindqvist)</td>\n",
       "      <td>female</td>\n",
       "      <td>22.0</td>\n",
       "      <td>1</td>\n",
       "      <td>1</td>\n",
       "      <td>3101298</td>\n",
       "      <td>12.2875</td>\n",
       "      <td>NaN</td>\n",
       "      <td>S</td>\n",
       "    </tr>\n",
       "  </tbody>\n",
       "</table>\n",
       "</div>"
      ],
      "text/plain": [
       "   PassengerId  Pclass                                          Name     Sex  \\\n",
       "0          892       3                              Kelly, Mr. James    male   \n",
       "1          893       3              Wilkes, Mrs. James (Ellen Needs)  female   \n",
       "2          894       2                     Myles, Mr. Thomas Francis    male   \n",
       "3          895       3                              Wirz, Mr. Albert    male   \n",
       "4          896       3  Hirvonen, Mrs. Alexander (Helga E Lindqvist)  female   \n",
       "\n",
       "    Age  SibSp  Parch   Ticket     Fare Cabin Embarked  \n",
       "0  34.5      0      0   330911   7.8292   NaN        Q  \n",
       "1  47.0      1      0   363272   7.0000   NaN        S  \n",
       "2  62.0      0      0   240276   9.6875   NaN        Q  \n",
       "3  27.0      0      0   315154   8.6625   NaN        S  \n",
       "4  22.0      1      1  3101298  12.2875   NaN        S  "
      ]
     },
     "execution_count": 15,
     "metadata": {},
     "output_type": "execute_result"
    }
   ],
   "source": [
    "test_data = pd.read_csv(\"/kaggle/input/titanic/test.csv\")\n",
    "test_data.head()"
   ]
  },
  {
   "cell_type": "code",
   "execution_count": 16,
   "id": "97e59ffb",
   "metadata": {
    "execution": {
     "iopub.execute_input": "2024-04-09T23:11:19.050101Z",
     "iopub.status.busy": "2024-04-09T23:11:19.049384Z",
     "iopub.status.idle": "2024-04-09T23:11:19.058609Z",
     "shell.execute_reply": "2024-04-09T23:11:19.057474Z"
    },
    "papermill": {
     "duration": 0.022423,
     "end_time": "2024-04-09T23:11:19.061075",
     "exception": false,
     "start_time": "2024-04-09T23:11:19.038652",
     "status": "completed"
    },
    "tags": []
   },
   "outputs": [
    {
     "name": "stdout",
     "output_type": "stream",
     "text": [
      "% of women who survived: 0.7420382165605095\n"
     ]
    }
   ],
   "source": [
    "women = train_data.loc[train_data.Sex == 'female'][\"Survived\"]\n",
    "rate_women = sum(women)/len(women)\n",
    "\n",
    "print(\"% of women who survived:\", rate_women)"
   ]
  },
  {
   "cell_type": "code",
   "execution_count": 17,
   "id": "b455a972",
   "metadata": {
    "execution": {
     "iopub.execute_input": "2024-04-09T23:11:19.080459Z",
     "iopub.status.busy": "2024-04-09T23:11:19.079658Z",
     "iopub.status.idle": "2024-04-09T23:11:19.087520Z",
     "shell.execute_reply": "2024-04-09T23:11:19.086322Z"
    },
    "papermill": {
     "duration": 0.019835,
     "end_time": "2024-04-09T23:11:19.089497",
     "exception": false,
     "start_time": "2024-04-09T23:11:19.069662",
     "status": "completed"
    },
    "tags": []
   },
   "outputs": [
    {
     "name": "stdout",
     "output_type": "stream",
     "text": [
      "% of men who survived: 0.18890814558058924\n"
     ]
    }
   ],
   "source": [
    "men = train_data.loc[train_data.Sex == 'male'][\"Survived\"]\n",
    "rate_men = sum(men)/len(men)\n",
    "\n",
    "print(\"% of men who survived:\", rate_men)"
   ]
  },
  {
   "cell_type": "code",
   "execution_count": 18,
   "id": "409d378f",
   "metadata": {
    "execution": {
     "iopub.execute_input": "2024-04-09T23:11:19.109472Z",
     "iopub.status.busy": "2024-04-09T23:11:19.108209Z",
     "iopub.status.idle": "2024-04-09T23:11:19.578940Z",
     "shell.execute_reply": "2024-04-09T23:11:19.578159Z"
    },
    "papermill": {
     "duration": 0.483202,
     "end_time": "2024-04-09T23:11:19.581322",
     "exception": false,
     "start_time": "2024-04-09T23:11:19.098120",
     "status": "completed"
    },
    "tags": []
   },
   "outputs": [
    {
     "name": "stdout",
     "output_type": "stream",
     "text": [
      "Your submission was successfully saved!\n"
     ]
    }
   ],
   "source": [
    "from sklearn.ensemble import RandomForestClassifier\n",
    "\n",
    "y = train_data[\"Survived\"]\n",
    "\n",
    "features = [\"Pclass\", \"Sex\", \"SibSp\", \"Parch\"] # sqrt(12) == 3.5\n",
    "X = pd.get_dummies(train_data[features])\n",
    "X_test = pd.get_dummies(test_data[features])\n",
    "\n",
    "model = RandomForestClassifier(n_estimators=100, max_depth=5, random_state=1)\n",
    "model.fit(X, y)\n",
    "predictions = model.predict(X_test)\n",
    "\n",
    "output = pd.DataFrame({'PassengerId': test_data.PassengerId, 'Survived': predictions})\n",
    "\n",
    "output.to_csv('submission.csv', index=False)\n",
    "print(\"Your submission was successfully saved!\")"
   ]
  },
  {
   "cell_type": "markdown",
   "id": "3b63d426",
   "metadata": {
    "papermill": {
     "duration": 0.008437,
     "end_time": "2024-04-09T23:11:19.598499",
     "exception": false,
     "start_time": "2024-04-09T23:11:19.590062",
     "status": "completed"
    },
    "tags": []
   },
   "source": [
    "let check against trained data since test does not have survived"
   ]
  },
  {
   "cell_type": "code",
   "execution_count": 19,
   "id": "460e62c8",
   "metadata": {
    "execution": {
     "iopub.execute_input": "2024-04-09T23:11:19.617438Z",
     "iopub.status.busy": "2024-04-09T23:11:19.616743Z",
     "iopub.status.idle": "2024-04-09T23:11:19.646222Z",
     "shell.execute_reply": "2024-04-09T23:11:19.644932Z"
    },
    "papermill": {
     "duration": 0.041777,
     "end_time": "2024-04-09T23:11:19.648817",
     "exception": false,
     "start_time": "2024-04-09T23:11:19.607040",
     "status": "completed"
    },
    "tags": []
   },
   "outputs": [
    {
     "name": "stdout",
     "output_type": "stream",
     "text": [
      "accuracy 0.8159371492704826\n"
     ]
    }
   ],
   "source": [
    "X_test_train = pd.get_dummies(train_data[features])\n",
    "predictions = model.predict(X_test_train)\n",
    "wrong = 0\n",
    "for index, prediction in enumerate(predictions):\n",
    "    if prediction != train_data.at[index, 'Survived']:\n",
    "        wrong = wrong + 1\n",
    "print(\"accuracy\", 1 - (wrong / len(predictions)))"
   ]
  },
  {
   "cell_type": "code",
   "execution_count": null,
   "id": "60329f0a",
   "metadata": {
    "papermill": {
     "duration": 0.008521,
     "end_time": "2024-04-09T23:11:19.666591",
     "exception": false,
     "start_time": "2024-04-09T23:11:19.658070",
     "status": "completed"
    },
    "tags": []
   },
   "outputs": [],
   "source": []
  }
 ],
 "metadata": {
  "kaggle": {
   "accelerator": "none",
   "dataSources": [
    {
     "databundleVersionId": 26502,
     "sourceId": 3136,
     "sourceType": "competition"
    }
   ],
   "dockerImageVersionId": 30684,
   "isGpuEnabled": false,
   "isInternetEnabled": true,
   "language": "python",
   "sourceType": "notebook"
  },
  "kernelspec": {
   "display_name": "Python 3",
   "language": "python",
   "name": "python3"
  },
  "language_info": {
   "codemirror_mode": {
    "name": "ipython",
    "version": 3
   },
   "file_extension": ".py",
   "mimetype": "text/x-python",
   "name": "python",
   "nbconvert_exporter": "python",
   "pygments_lexer": "ipython3",
   "version": "3.10.13"
  },
  "papermill": {
   "default_parameters": {},
   "duration": 14.176705,
   "end_time": "2024-04-09T23:11:20.798877",
   "environment_variables": {},
   "exception": null,
   "input_path": "__notebook__.ipynb",
   "output_path": "__notebook__.ipynb",
   "parameters": {},
   "start_time": "2024-04-09T23:11:06.622172",
   "version": "2.5.0"
  }
 },
 "nbformat": 4,
 "nbformat_minor": 5
}
